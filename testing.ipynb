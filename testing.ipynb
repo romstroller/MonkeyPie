{
 "cells": [
  {
   "cell_type": "code",
   "execution_count": null,
   "metadata": {},
   "outputs": [],
   "source": [
    "\"\"\" MonkeyPie\n",
    "    \n",
    "    FIND FUZZY DUPLICATES FOR SONGS ACROSS ANY CODEC\n",
    "    - include check better quality, including probable glitch/skip analysis\n",
    "    \n",
    "    - matching inc. levenshtein fuzzy-compare of the \"artist + songtitle\"\n",
    "        and of audio profiles\n",
    "        \n",
    "\"\"\""
   ]
  },
  {
   "cell_type": "code",
   "execution_count": 73,
   "metadata": {},
   "outputs": [],
   "source": [
    "import win32com.client\n",
    "# import sys\n",
    "# import time\n",
    "# import Levenshtein\n",
    "# import codecs"
   ]
  },
  {
   "cell_type": "code",
   "execution_count": 77,
   "metadata": {},
   "outputs": [],
   "source": [
    "def get_songsDB(\n",
    "    dispatch = 'SongsDB.SDBApplication',\n",
    "    shutdown = False\n",
    "    ):\n",
    "        SDB = win32com.client.Dispatch( dispatch )\n",
    "        SDB.ShutdownAfterDisconnect = shutdown\n",
    "        return SDB\n",
    "\n",
    "def getResults_pathLike ( W32_SongsDB, matchStr ):\n",
    "    results = []\n",
    "    seltracks = W32_SongsDB.Database.QuerySongs( \n",
    "        f\"Songs.SongPath LIKE '%{ matchStr }'\")\n",
    "        \n",
    "    while not seltracks.EOF:\n",
    "        resultItem = seltracks.Item\n",
    "        results.append(resultItem)\n",
    "        seltracks.Next()\n",
    "        \n",
    "    print( f\"QUERY [ {matchStr} ] RETURNED [ { len(results)} ] RESULTS \" )\n",
    "    W32_SongsDB = None\n",
    "    return results"
   ]
  },
  {
   "cell_type": "code",
   "execution_count": 135,
   "metadata": {},
   "outputs": [
    {
     "name": "stdout",
     "output_type": "stream",
     "text": [
      "QUERY [ .flac ] RETURNED [ 8149 ] RESULTS \n"
     ]
    }
   ],
   "source": [
    "def main():\n",
    "    \n",
    "    SongsDB = get_songsDB()\n",
    "    dbItems_flac = getResults_pathLike ( SongsDB, \".flac\" )\n",
    "    \n",
    "    return dbItems_flac\n",
    "\n",
    "# if __name__ == '__main__':\n",
    "flacs = main()\n",
    "\n",
    "# takes ~8 sec to return ~8000 results from ~44000 files"
   ]
  },
  {
   "cell_type": "code",
   "execution_count": 94,
   "metadata": {},
   "outputs": [],
   "source": [
    "# # Get track object attributes\n",
    "# dirStrs = sorted( [ attrStr for attrStr in flacs[0].__dir__() ] )\n",
    "# for dirStr in dirStrs: print( dirStr )"
   ]
  },
  {
   "cell_type": "code",
   "execution_count": 110,
   "metadata": {},
   "outputs": [],
   "source": [
    "attribsSelect = [\n",
    "    'ID',\n",
    "    'Title',\n",
    "    'ArtistName',\n",
    "    'SongLengthString',\n",
    "    'AlbumName',\n",
    "    'AlbumArtistName',\n",
    "    'MusicComposer',\n",
    "    'Encoder',\n",
    "    'Bitrate',\n",
    "    'SampleRate',\n",
    "    'Channels',\n",
    "    'FileLength',\n",
    "    'Date',\n",
    "    'LastPlayed',\n",
    "    'DateAdded',\n",
    "    'DateDBModified',\n",
    "    'FileModified',\n",
    "    'DiscNumber',\n",
    "    'TrackOrder',\n",
    "    'Genre',\n",
    "    'Path',\n",
    "    'PlayCounter',\n",
    "    'SkipCount',\n",
    "    'SongID',\n",
    "    'SongLength',\n",
    "]"
   ]
  },
  {
   "cell_type": "code",
   "execution_count": 111,
   "metadata": {},
   "outputs": [],
   "source": [
    "def getAttrValPair( obj, attString, toConsole=False ):\n",
    "    \n",
    "    value = eval( f\"obj.{attString}\" )\n",
    "    \n",
    "    if toConsole:\n",
    "        valStr = str(value)[:60]\n",
    "        if len(valStr) > 59: valStr += \"...\"\n",
    "        padd = max([ len(attrStr) for attrStr in attribsSelect ]) + 2\n",
    "        print( f\"{attString}:{ ' ' * (padd-len(attString)) }{valStr}\" )\n",
    "        \n",
    "    else: return ( attString, value )"
   ]
  },
  {
   "cell_type": "code",
   "execution_count": 133,
   "metadata": {},
   "outputs": [
    {
     "data": {
      "text/plain": [
       "Decimal('34.6260051727294921875')"
      ]
     },
     "execution_count": 133,
     "metadata": {},
     "output_type": "execute_result"
    }
   ],
   "source": [
    "def fileLengthConvert( byteSize, mb = True ):\n",
    "    # disagrees (less than by ~1mb) win filesys \"size\" field\n",
    "    outSize = byteSize / 1024\n",
    "    if mb: return outSize / 1024\n",
    "    return outSize\n",
    "    \n",
    "size = fileLengthConvert( flacs[0].FileLength )\n",
    "size"
   ]
  },
  {
   "cell_type": "code",
   "execution_count": 112,
   "metadata": {},
   "outputs": [
    {
     "name": "stdout",
     "output_type": "stream",
     "text": [
      "ID:                33508\n",
      "Title:             Gymnopedie for piano No. 1\n",
      "ArtistName:        Tamara-Anna Cislowski\n",
      "SongLengthString:  3:25\n",
      "AlbumName:         The Persian Hours\n",
      "AlbumArtistName:   Tamara-Anna Cislowski\n",
      "MusicComposer:     Erik Satie\n",
      "Encoder:           FLAC 1.3.3\n",
      "Bitrate:           1416344\n",
      "SampleRate:        44100\n",
      "Channels:          2\n",
      "FileLength:        36307998\n",
      "Date:              2008-01-01 00:00:00+00:00\n",
      "LastPlayed:        1899-12-30 00:00:00+00:00\n",
      "DateAdded:         2021-08-27 11:33:08.384000+00:00\n",
      "DateDBModified:    2021-08-27 13:09:57.089000+00:00\n",
      "FileModified:      2021-08-12 01:01:45.704000+00:00\n",
      "DiscNumber:        1\n",
      "TrackOrder:        1\n",
      "Genre:             Classical\n",
      "Path:              G:\\E MUSIC\\flac\\Tamara-Anna Cislowski\\The Persian Hours\\000 ...\n",
      "PlayCounter:       0\n",
      "SkipCount:         0\n",
      "SongID:            33508\n",
      "SongLength:        205000\n"
     ]
    }
   ],
   "source": [
    "# output selected track attributes\n",
    "for attrStr in attribsSelect: getAttrValPair( flacs[0], attrStr, toConsole=True )"
   ]
  },
  {
   "cell_type": "code",
   "execution_count": 134,
   "metadata": {},
   "outputs": [],
   "source": [
    "# add to now playing\n",
    "SDB = win32com.client.Dispatch('SongsDB.SDBApplication')\n",
    "SDB.ShutdownAfterDisconnect = False\n",
    "SDB.Player.PlaylistAddTrack( flacs[0] )\n",
    "SDB = None"
   ]
  }
 ],
 "metadata": {
  "kernelspec": {
   "display_name": "Python 3",
   "language": "python",
   "name": "python3"
  },
  "language_info": {
   "codemirror_mode": {
    "name": "ipython",
    "version": 3
   },
   "file_extension": ".py",
   "mimetype": "text/x-python",
   "name": "python",
   "nbconvert_exporter": "python",
   "pygments_lexer": "ipython3",
   "version": "3.10.2"
  },
  "orig_nbformat": 4,
  "vscode": {
   "interpreter": {
    "hash": "26de051ba29f2982a8de78e945f0abaf191376122a1563185a90213a26c5da77"
   }
  }
 },
 "nbformat": 4,
 "nbformat_minor": 2
}
